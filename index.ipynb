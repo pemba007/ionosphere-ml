{
 "cells": [
  {
   "cell_type": "code",
   "execution_count": null,
   "metadata": {},
   "outputs": [],
   "source": [
    "# Importing libraries\n",
    "import pandas as pd\n",
    "import seaborn as sns\n",
    "import matplotlib.pyplot as plt\n",
    "\n",
    "df = pd.read_csv('./ionosphere.csv', header=None)"
   ]
  },
  {
   "cell_type": "code",
   "execution_count": null,
   "metadata": {},
   "outputs": [],
   "source": [
    "# Checking the dataset size and shape\n",
    "print(df.shape)"
   ]
  },
  {
   "cell_type": "code",
   "execution_count": null,
   "metadata": {},
   "outputs": [],
   "source": [
    "# Checking for skewness\n",
    "print(df.skew())"
   ]
  },
  {
   "cell_type": "code",
   "execution_count": null,
   "metadata": {},
   "outputs": [],
   "source": [
    "# Checking if normalization is required\n",
    "print(df.describe())"
   ]
  },
  {
   "cell_type": "code",
   "execution_count": null,
   "metadata": {},
   "outputs": [],
   "source": [
    "# Removing target varible\n",
    "\n",
    "y = df[34]\n",
    "df.drop(columns=[34], inplace=True)"
   ]
  },
  {
   "cell_type": "code",
   "execution_count": null,
   "metadata": {},
   "outputs": [],
   "source": [
    "# Label Encoding the target variable\n",
    "\n",
    "y = y.replace({\"g\": 0, \"b\": 1})"
   ]
  },
  {
   "cell_type": "code",
   "execution_count": null,
   "metadata": {},
   "outputs": [],
   "source": [
    "print(y.head())"
   ]
  },
  {
   "cell_type": "code",
   "execution_count": null,
   "metadata": {},
   "outputs": [],
   "source": [
    "# Showing imbalance in target variable\n",
    "sns.histplot(y)\n",
    "plt.show()"
   ]
  },
  {
   "cell_type": "code",
   "execution_count": null,
   "metadata": {},
   "outputs": [],
   "source": [
    "from sklearn.metrics import confusion_matrix, ConfusionMatrixDisplay"
   ]
  },
  {
   "cell_type": "markdown",
   "metadata": {},
   "source": [
    "# Implementing Decision Tree Classifier"
   ]
  },
  {
   "cell_type": "code",
   "execution_count": null,
   "metadata": {},
   "outputs": [],
   "source": [
    "# Implementing Decision Tree\n",
    "\n",
    "from sklearn.tree import DecisionTreeClassifier\n",
    "from sklearn.model_selection import cross_val_predict\n",
    "\n",
    "clf = DecisionTreeClassifier(random_state=0)\n",
    "\n",
    "y_pred = cross_val_predict(clf, df, y, cv=5)\n",
    "conf_mat = confusion_matrix(y, y_pred)\n",
    "cm_display = ConfusionMatrixDisplay(conf_mat, display_labels=[\"Good\", \"Bad\"]).plot()\n",
    "plt.show()"
   ]
  },
  {
   "cell_type": "markdown",
   "metadata": {},
   "source": [
    "## Metrics for Decision Tree Classifier"
   ]
  },
  {
   "cell_type": "code",
   "execution_count": null,
   "metadata": {},
   "outputs": [],
   "source": [
    "from sklearn.metrics import accuracy_score, roc_curve, RocCurveDisplay, classification_report, auc\n",
    "\n",
    "print(\"Accuracy :\", accuracy_score(y, y_pred))\n",
    "\n",
    "tn, fp, fn, tp = conf_mat.ravel()\n",
    "print(\"Specificity :\", (tn / (tn+fp)))\n",
    "print(\"Sensitivity :\", (tp / (tp+fn)))\n",
    "\n",
    "fpr, tpr, _ = roc_curve(y, y_pred)\n",
    "print(\"Area under curve: \", auc(fpr, tpr))\n",
    "print(classification_report(y, y_pred, target_names = ['Good', 'Bad']))\n",
    "roc_display = RocCurveDisplay(fpr=fpr, tpr=tpr).plot()\n",
    "plt.show()\n"
   ]
  },
  {
   "cell_type": "markdown",
   "metadata": {},
   "source": [
    "# Implementing Random Forest Classifier"
   ]
  },
  {
   "cell_type": "code",
   "execution_count": null,
   "metadata": {},
   "outputs": [],
   "source": [
    "# Implementing Random Forest Classifier\n",
    "\n",
    "from sklearn.ensemble import RandomForestClassifier\n",
    "\n",
    "clf = RandomForestClassifier(random_state=0)\n",
    "\n",
    "y_pred = cross_val_predict(clf, df, y, cv=5)\n",
    "conf_mat = confusion_matrix(y, y_pred)\n",
    "cm_display = ConfusionMatrixDisplay(conf_mat, display_labels=[\"Good\", \"Bad\"]).plot()\n",
    "plt.show()"
   ]
  },
  {
   "cell_type": "markdown",
   "metadata": {},
   "source": [
    "## Metrics for random forest classifer"
   ]
  },
  {
   "cell_type": "code",
   "execution_count": null,
   "metadata": {},
   "outputs": [],
   "source": [
    "print(\"Accuracy :\", accuracy_score(y, y_pred))\n",
    "\n",
    "tn, fp, fn, tp = conf_mat.ravel()\n",
    "print(\"Specificity :\", (tn / (tn+fp)))\n",
    "print(\"Sensitivity :\", (tp / (tp+fn)))\n",
    "\n",
    "fpr, tpr, _ = roc_curve(y, y_pred)\n",
    "print(\"Area under curve: \", auc(fpr, tpr))\n",
    "print(classification_report(y, y_pred, target_names = [\"Good\", \"Bad\"]))\n",
    "roc_display = RocCurveDisplay(fpr=fpr, tpr=tpr).plot()\n",
    "plt.show()\n"
   ]
  }
 ],
 "metadata": {
  "interpreter": {
   "hash": "cf0502d1a5b9759e49df08dfa766bd2d6a64919df3bd5a34ee3df9e32f4e0ec2"
  },
  "kernelspec": {
   "display_name": "Python 3.7.11 ('CS540')",
   "language": "python",
   "name": "python3"
  },
  "language_info": {
   "codemirror_mode": {
    "name": "ipython",
    "version": 3
   },
   "file_extension": ".py",
   "mimetype": "text/x-python",
   "name": "python",
   "nbconvert_exporter": "python",
   "pygments_lexer": "ipython3",
   "version": "3.7.11"
  },
  "orig_nbformat": 4
 },
 "nbformat": 4,
 "nbformat_minor": 2
}
